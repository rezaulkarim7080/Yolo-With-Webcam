{
 "cells": [
  {
   "cell_type": "markdown",
   "metadata": {},
   "source": [
    "#openWebcam"
   ]
  },
  {
   "cell_type": "code",
   "execution_count": null,
   "metadata": {},
   "outputs": [],
   "source": [
    "import cv2\n",
    "\n",
    "cap = cv2.VideoCapture(0,cv2.CAP_DSHOW)\n",
    "print(cap)\n",
    "\n",
    "while cap.isOpened():\n",
    "    ret, frame = cap.read()\n",
    "    if ret == True:\n",
    "        frame = cv2.resize(frame,(1000,600))## width = height\n",
    "        cv2.imshow('frame is',frame)\n",
    "        k = cv2.waitKey(100)\n",
    "        if k == ord(\"q\") & 0xFF:\n",
    "            break\n",
    "\n",
    "cap.release()\n",
    "cv2.destroyAllWindows()"
   ]
  },
  {
   "cell_type": "markdown",
   "metadata": {},
   "source": [
    "# Yolo With Webcam"
   ]
  },
  {
   "cell_type": "code",
   "execution_count": 1,
   "metadata": {},
   "outputs": [],
   "source": [
    "from ultralytics import YOLO\n",
    "import cv2 \n",
    "import cvzone\n",
    "import math\n",
    "\n",
    "# cap = cv2.VideoCapture(0,cv2.CAP_DSHOW) # for WEBCAM\n",
    "cap = cv2.VideoCapture(\"/video/trafic.mp4\") # for Video\n",
    "\n",
    "\n",
    "model = YOLO('yolov8l.pt')\n",
    "\n",
    "\n",
    "classNames = [\"person\", \"bicycle\", \"car\", \"motorbike\", \"aeroplane\", \"bus\", \"train\", \"truck\", \"boat\", \"traffic light\", \"fire hydrant\", \"stop sign\", \"parking meter\", \"bench\", \"bird\", \"cat\", \"dog\", \"horse\", \"sheep\", \"cow\", \"elephant\", \"bear\", \"zebra\", \"giraffe\", \"backpack\", \"Umbrella\", \"handbag\",\"tie\", \"suitcase\", \"frisbee\", \"skis\", \"snowboard\", \"sports ball\", \"kite\", \"baseball bat\", \"baseball glove\", \"skateboard\", \"surfboard\", \"tennis racket\", \"bottle\", \"wine glass\", \"cup\", \"fork\", \"knife\", \"spoon\", \"bowl\", \"banana\", \"apple\", \"sandwich\", \"orange\", \"broccoli\", \"carrot\", \"hot dog\", \"pizza\", \"donut\", \"cake\", \"chair\", \"sofa\", \"pottedplant\", \"bed\", \"diningtable\", \"toilet\", \"tvmonitor\", \"laptop\", \"mouse\", \"remote\", \"keyboard\", \"cell phone\", \"microwave\", \"oven\", \"toaster\", \"sink\", \"refrigerator\", \"book\", \"clock\", \"vase\", \"scissors\", \"teddy bear\", \"hair drier\", \"toothbrush\"\n",
    "]\n",
    "\n",
    "\n",
    "# OPEN WEBCAM\n",
    "\n",
    "while True:\n",
    "    ret, frame = cap.read()\n",
    "    if ret == True:\n",
    "        # frame = cv2.resize(frame,(800,600))## width = height\n",
    "\n",
    "        results = model(frame, stream=True)\n",
    "        for r in results:\n",
    "            boxes = r.boxes\n",
    "            for box in boxes:\n",
    "\n",
    "                #BOUNDING BOX\n",
    "\n",
    "                # openCv normal way\n",
    "\n",
    "                x1,y1,x2,y2 = box.xyxy[0]\n",
    "                x1,y1,x2,y2 = int(x1),int(y1),int(x2),int(y2)\n",
    "                print(x1,y1,x2,y2)\n",
    "                cv2.rectangle(frame,(x1,y1),(x2,y2),(255,0,255),3)\n",
    "\n",
    "                # using cvzone package\n",
    "\n",
    "                # x1, y1, x2, y2 = box.xyxy[0]\n",
    "                # x1, y1, x2 ,y2 = int(x1),int(y1),int(x2),int(y2)\n",
    "                # w,h = x2-x1,y2-y1\n",
    "                # cvzone.cornerRect(frame,(x1,y1,w,h))\n",
    "\n",
    "                # show confidence\n",
    "                conf = math.floor(box.conf[0]*100)/100\n",
    "                # print(conf)\n",
    "                cvzone.putTextRect(frame,f'{conf}',(max(0,x1),max(30,y1)),scale=0.7,thickness=1)# show percentage \n",
    "\n",
    "                #ClassName\n",
    "                cls = int(box.cls[0])\n",
    "                cvzone.putTextRect(frame,f'{classNames[cls]}  {conf}',(max(0,x1),max(30,y1)),scale=0.7,thickness=1)\n",
    "\n",
    "\n",
    "             # show cam\n",
    "\n",
    "        cv2.imshow('frame is',frame)\n",
    "        k = cv2.waitKey(1)\n",
    "        if k == ord(\"q\") & 0xFF:\n",
    "            break\n",
    "\n",
    "cap.release()\n",
    "cv2.destroyAllWindows()\n",
    "\n"
   ]
  }
 ],
 "metadata": {
  "kernelspec": {
   "display_name": "Python 3",
   "language": "python",
   "name": "python3"
  },
  "language_info": {
   "codemirror_mode": {
    "name": "ipython",
    "version": 3
   },
   "file_extension": ".py",
   "mimetype": "text/x-python",
   "name": "python",
   "nbconvert_exporter": "python",
   "pygments_lexer": "ipython3",
   "version": "3.12.0"
  }
 },
 "nbformat": 4,
 "nbformat_minor": 2
}
